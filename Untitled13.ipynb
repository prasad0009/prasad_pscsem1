{
 "cells": [
  {
   "cell_type": "code",
   "execution_count": 5,
   "id": "66390e9f-48c5-4662-93fc-42d414365eb4",
   "metadata": {},
   "outputs": [],
   "source": [
    "s=\"this is my first python programming class and i am learing python string and funtion\""
   ]
  },
  {
   "cell_type": "code",
   "execution_count": 6,
   "id": "dea56fa1-0d4a-480c-91b2-505f69460093",
   "metadata": {},
   "outputs": [],
   "source": [
    "#q1"
   ]
  },
  {
   "cell_type": "code",
   "execution_count": 7,
   "id": "11ae939e-8620-4580-b621-596c0a4a3c52",
   "metadata": {},
   "outputs": [
    {
     "data": {
      "text/plain": [
       "'hsf oomc ilntsg i'"
      ]
     },
     "execution_count": 7,
     "metadata": {},
     "output_type": "execute_result"
    }
   ],
   "source": [
    "s[1:300:5]"
   ]
  },
  {
   "cell_type": "code",
   "execution_count": 8,
   "id": "0bc7e3ab-7312-4632-8278-3299aad95378",
   "metadata": {},
   "outputs": [],
   "source": [
    "#q2"
   ]
  },
  {
   "cell_type": "code",
   "execution_count": 9,
   "id": "39052591-2563-4b40-a0b3-be664a3dc54e",
   "metadata": {},
   "outputs": [
    {
     "data": {
      "text/plain": [
       "'noitnuf dna gnirts nohtyp gnirael ma i dna ssalc gnimmargorp nohtyp tsrif ym si siht'"
      ]
     },
     "execution_count": 9,
     "metadata": {},
     "output_type": "execute_result"
    }
   ],
   "source": [
    "s[::-1]"
   ]
  },
  {
   "cell_type": "code",
   "execution_count": 10,
   "id": "8c659a9e-de7a-4565-9f49-86ba36a01a40",
   "metadata": {},
   "outputs": [],
   "source": [
    "#q3"
   ]
  },
  {
   "cell_type": "code",
   "execution_count": 11,
   "id": "0dee904d-95cf-49ea-ba16-25383fe5d787",
   "metadata": {},
   "outputs": [
    {
     "data": {
      "text/plain": [
       "'THIS IS MY FIRST PYTHON PROGRAMMING CLASS AND I AM LEARING PYTHON STRING AND FUNTION'"
      ]
     },
     "execution_count": 11,
     "metadata": {},
     "output_type": "execute_result"
    }
   ],
   "source": [
    "s.upper()"
   ]
  },
  {
   "cell_type": "code",
   "execution_count": 12,
   "id": "d4994af7-8d48-4446-85fd-2258ab7b29f5",
   "metadata": {},
   "outputs": [],
   "source": [
    "s1=s.upper()"
   ]
  },
  {
   "cell_type": "code",
   "execution_count": 13,
   "id": "ecf98c0f-f591-4863-aa78-611129077749",
   "metadata": {},
   "outputs": [
    {
     "data": {
      "text/plain": [
       "['THIS',\n",
       " 'IS',\n",
       " 'MY',\n",
       " 'FIRST',\n",
       " 'PYTHON',\n",
       " 'PROGRAMMING',\n",
       " 'CLASS',\n",
       " 'AND',\n",
       " 'I',\n",
       " 'AM',\n",
       " 'LEARING',\n",
       " 'PYTHON',\n",
       " 'STRING',\n",
       " 'AND',\n",
       " 'FUNTION']"
      ]
     },
     "execution_count": 13,
     "metadata": {},
     "output_type": "execute_result"
    }
   ],
   "source": [
    "s1.split()"
   ]
  },
  {
   "cell_type": "code",
   "execution_count": 14,
   "id": "bc83bea1-046f-4f19-875b-ad58831e0f4f",
   "metadata": {},
   "outputs": [],
   "source": [
    "#q4"
   ]
  },
  {
   "cell_type": "code",
   "execution_count": 15,
   "id": "fa6fe866-7bda-4f85-9e3e-c49306e01019",
   "metadata": {},
   "outputs": [
    {
     "data": {
      "text/plain": [
       "'this is my first python programming class and i am learing python string and funtion'"
      ]
     },
     "execution_count": 15,
     "metadata": {},
     "output_type": "execute_result"
    }
   ],
   "source": [
    "s.lower()"
   ]
  },
  {
   "cell_type": "code",
   "execution_count": 16,
   "id": "5d3b32a8-43a5-4f6e-bd12-1eb0f12352be",
   "metadata": {},
   "outputs": [],
   "source": [
    "#q5"
   ]
  },
  {
   "cell_type": "code",
   "execution_count": 17,
   "id": "1e471878-c96f-45f8-b595-e4f2b3ef89f7",
   "metadata": {},
   "outputs": [
    {
     "data": {
      "text/plain": [
       "'This is my first python programming class and i am learing python string and funtion'"
      ]
     },
     "execution_count": 17,
     "metadata": {},
     "output_type": "execute_result"
    }
   ],
   "source": [
    "s.capitalize()"
   ]
  },
  {
   "cell_type": "code",
   "execution_count": 18,
   "id": "ae44bae8-711d-4a43-bb30-b3815984f679",
   "metadata": {},
   "outputs": [],
   "source": [
    "#q6"
   ]
  },
  {
   "cell_type": "code",
   "execution_count": 19,
   "id": "308519f6-768c-4ef0-bec1-0c225b1d33bc",
   "metadata": {},
   "outputs": [],
   "source": [
    "# The isalpha() method returns true if all the characters is the string are alphabets ,and the isalnum() method returns true if all the characters "
   ]
  },
  {
   "cell_type": "code",
   "execution_count": 22,
   "id": "08b49f5c-fbaa-42bd-9c76-c473329a52f2",
   "metadata": {},
   "outputs": [],
   "source": [
    "test=\"jhdjk\"\n",
    "test1=\"ugh58jkih9\""
   ]
  },
  {
   "cell_type": "code",
   "execution_count": 23,
   "id": "f0b44286-c744-4114-93d3-504d4e8b1d76",
   "metadata": {},
   "outputs": [
    {
     "data": {
      "text/plain": [
       "True"
      ]
     },
     "execution_count": 23,
     "metadata": {},
     "output_type": "execute_result"
    }
   ],
   "source": [
    "test.isalpha()"
   ]
  },
  {
   "cell_type": "code",
   "execution_count": 24,
   "id": "28a606ca-df56-43aa-89b5-3e3cf5b2c77f",
   "metadata": {},
   "outputs": [
    {
     "data": {
      "text/plain": [
       "True"
      ]
     },
     "execution_count": 24,
     "metadata": {},
     "output_type": "execute_result"
    }
   ],
   "source": [
    "test.isalnum()"
   ]
  },
  {
   "cell_type": "code",
   "execution_count": 25,
   "id": "fba4d8e6-e34b-416f-8ff5-4768f3172b61",
   "metadata": {},
   "outputs": [
    {
     "data": {
      "text/plain": [
       "False"
      ]
     },
     "execution_count": 25,
     "metadata": {},
     "output_type": "execute_result"
    }
   ],
   "source": [
    "test1.isalpha()"
   ]
  },
  {
   "cell_type": "code",
   "execution_count": 26,
   "id": "4e5cce30-59bf-4197-b9ce-06fccc76b22e",
   "metadata": {},
   "outputs": [
    {
     "data": {
      "text/plain": [
       "True"
      ]
     },
     "execution_count": 26,
     "metadata": {},
     "output_type": "execute_result"
    }
   ],
   "source": [
    "test1.isalnum()"
   ]
  },
  {
   "cell_type": "code",
   "execution_count": 27,
   "id": "2bd6e95e-951c-41c1-85cc-05f0a8dd9a48",
   "metadata": {},
   "outputs": [],
   "source": [
    "#q7"
   ]
  },
  {
   "cell_type": "code",
   "execution_count": 35,
   "id": "19b15edd-7f1c-4fc7-b60b-3924171ac0a9",
   "metadata": {},
   "outputs": [],
   "source": [
    "exp=\"This\\tis\\ta\\texample\""
   ]
  },
  {
   "cell_type": "code",
   "execution_count": 36,
   "id": "9aa29bec-971e-422f-8779-54a0621997d1",
   "metadata": {},
   "outputs": [
    {
     "data": {
      "text/plain": [
       "'This    is      a       example'"
      ]
     },
     "execution_count": 36,
     "metadata": {},
     "output_type": "execute_result"
    }
   ],
   "source": [
    "exp.expandtabs()"
   ]
  },
  {
   "cell_type": "code",
   "execution_count": 38,
   "id": "ccc8b12e-8c0e-45bf-960d-4104f05a617e",
   "metadata": {},
   "outputs": [
    {
     "data": {
      "text/plain": [
       "'This  is  a example'"
      ]
     },
     "execution_count": 38,
     "metadata": {},
     "output_type": "execute_result"
    }
   ],
   "source": [
    "exp.expandtabs(2)"
   ]
  },
  {
   "cell_type": "code",
   "execution_count": 39,
   "id": "474577af-db00-46a9-959d-e656c287af06",
   "metadata": {},
   "outputs": [
    {
     "data": {
      "text/plain": [
       "'This  is a  example'"
      ]
     },
     "execution_count": 39,
     "metadata": {},
     "output_type": "execute_result"
    }
   ],
   "source": [
    "exp.expandtabs(3)"
   ]
  },
  {
   "cell_type": "code",
   "execution_count": 40,
   "id": "37d24c59-721c-4765-8e8d-92d331cbf54d",
   "metadata": {},
   "outputs": [],
   "source": [
    "#q8"
   ]
  },
  {
   "cell_type": "code",
   "execution_count": 41,
   "id": "1725327a-3ca0-4bac-9376-340542780038",
   "metadata": {},
   "outputs": [],
   "source": [
    "#1 example of strip:"
   ]
  },
  {
   "cell_type": "code",
   "execution_count": 45,
   "id": "38b8ba00-5ae8-424b-8489-349d941807a6",
   "metadata": {},
   "outputs": [
    {
     "data": {
      "text/plain": [
       "'hey!!prasad'"
      ]
     },
     "execution_count": 45,
     "metadata": {},
     "output_type": "execute_result"
    }
   ],
   "source": [
    "a=\"@@@@99hey!!prasad@9@@@\"\n",
    "a.strip(\"@9\")#removes all @9only from the right side"
   ]
  },
  {
   "cell_type": "code",
   "execution_count": 48,
   "id": "c9a20322-05e8-4440-afd6-024f997026cd",
   "metadata": {},
   "outputs": [
    {
     "data": {
      "text/plain": [
       "'hey!! prasad@9@@@@'"
      ]
     },
     "execution_count": 48,
     "metadata": {},
     "output_type": "execute_result"
    }
   ],
   "source": [
    "#2 example of lstrip:\n",
    "a1=\"@@@@99@hey!! prasad@9@@@@\"\n",
    "a1.lstrip(\"@9\")# remove all @9 only from the left side"
   ]
  },
  {
   "cell_type": "code",
   "execution_count": 50,
   "id": "20d507e5-3eb2-4b66-b2ec-c314aede8880",
   "metadata": {},
   "outputs": [
    {
     "data": {
      "text/plain": [
       "'@@@@999hey!! prasad'"
      ]
     },
     "execution_count": 50,
     "metadata": {},
     "output_type": "execute_result"
    }
   ],
   "source": [
    "#3 example of strip :\n",
    "a2=\"@@@@999hey!! prasad@9@@@\"\n",
    "a2.rstrip(\"@9\")#remove all @9 only from the right side"
   ]
  },
  {
   "cell_type": "code",
   "execution_count": null,
   "id": "d42a58e5-59a2-4541-8d4f-4a49f15b742c",
   "metadata": {},
   "outputs": [],
   "source": []
  }
 ],
 "metadata": {
  "kernelspec": {
   "display_name": "Python 3 (ipykernel)",
   "language": "python",
   "name": "python3"
  },
  "language_info": {
   "codemirror_mode": {
    "name": "ipython",
    "version": 3
   },
   "file_extension": ".py",
   "mimetype": "text/x-python",
   "name": "python",
   "nbconvert_exporter": "python",
   "pygments_lexer": "ipython3",
   "version": "3.12.4"
  }
 },
 "nbformat": 4,
 "nbformat_minor": 5
}
